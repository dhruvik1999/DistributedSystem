{
 "cells": [
  {
   "cell_type": "code",
   "execution_count": 99,
   "metadata": {
    "_cell_guid": "cecaa40b-7fc2-47a2-9eab-8139f44d47f2",
    "_uuid": "1449cadca905ca60e660802ef33c191565b800a9"
   },
   "outputs": [],
   "source": [
    "# This Python 3 environment comes with many helpful analytics libraries installed\n",
    "# It is defined by the kaggle/python docker image: https://github.com/kaggle/docker-python\n",
    "# For example, here's several helpful packages to load in \n",
    "\n",
    "import numpy as np # linear algebra\n",
    "import pandas as pd # data processing, CSV file I/O (e.g. pd.read_csv)\n",
    "\n",
    "# Input data files are available in the \"../input/\" directory.\n",
    "# For example, running this (by clicking run or pressing Shift+Enter) will list the files in the input directory\n",
    "import numpy as np\n",
    "import matplotlib.pyplot as plt\n",
    "import seaborn as sns\n",
    "import pandas as pd\n",
    "import xgboost\n",
    "\n",
    "import numpy as np\n",
    "import pandas as pd\n",
    "import matplotlib.pyplot as plt\n",
    "from matplotlib import cm\n",
    "\n",
    "\n",
    "from sklearn.model_selection import GridSearchCV\n",
    "from sklearn.ensemble import RandomForestClassifier as rfc\n",
    "from sklearn.linear_model import LogisticRegression\n",
    "from xgboost import XGBClassifier\n",
    "from sklearn.decomposition import PCA\n",
    "\n",
    "from sklearn.metrics import mean_absolute_error\n",
    "from sklearn.metrics import roc_auc_score,accuracy_score\n",
    "\n",
    "import random\n",
    "random.seed(9001)    \n"
   ]
  },
  {
   "cell_type": "code",
   "execution_count": 100,
   "metadata": {
    "_cell_guid": "c1565b4e-35d4-426b-9f94-c9c9cac3908d",
    "_uuid": "0992917289c2bbb31f77c115f49c74775652281a"
   },
   "outputs": [],
   "source": [
    "import pandas as pd\n",
    "from sklearn.model_selection import train_test_split\n",
    "from sklearn.preprocessing import Imputer\n"
   ]
  },
  {
   "cell_type": "code",
   "execution_count": 101,
   "metadata": {},
   "outputs": [
    {
     "name": "stdout",
     "output_type": "stream",
     "text": [
      "_________________________________________________________________\n",
      "Layer (type)                 Output Shape              Param #   \n",
      "=================================================================\n",
      "dense_43 (Dense)             (None, 4)                 600       \n",
      "_________________________________________________________________\n",
      "dense_44 (Dense)             (None, 4)                 20        \n",
      "=================================================================\n",
      "Total params: 620\n",
      "Trainable params: 620\n",
      "Non-trainable params: 0\n",
      "_________________________________________________________________\n"
     ]
    }
   ],
   "source": [
    "import keras\n",
    "model = keras.Sequential()\n",
    "model.add(keras.layers.Dense(4, activation = 'relu',input_shape=(149,)))\n",
    "model.add(keras.layers.Dense(4, activation = 'softmax'))\n",
    "model.summary()\n",
    "sgd = keras.optimizers.Adam(lr=0.001, beta_1=0.9, beta_2=0.999, epsilon=None, decay=0.0, amsgrad=False)\n",
    "model.compile(loss=keras.losses.kullback_leibler_divergence, optimizer=sgd)"
   ]
  },
  {
   "cell_type": "code",
   "execution_count": 102,
   "metadata": {},
   "outputs": [
    {
     "name": "stdout",
     "output_type": "stream",
     "text": [
      "(10000, 4)\n",
      "Epoch 1/10\n",
      "10000/10000 [==============================] - 1s 148us/step - loss: 0.2301\n",
      "Epoch 2/10\n",
      "10000/10000 [==============================] - 1s 88us/step - loss: 0.2301\n",
      "Epoch 3/10\n",
      "10000/10000 [==============================] - 1s 85us/step - loss: 0.2301\n",
      "Epoch 4/10\n",
      "10000/10000 [==============================] - 1s 84us/step - loss: 0.2301\n",
      "Epoch 5/10\n",
      "10000/10000 [==============================] - 1s 85us/step - loss: 0.2301\n",
      "Epoch 6/10\n",
      "10000/10000 [==============================] - 1s 84us/step - loss: 0.2301\n",
      "Epoch 7/10\n",
      "10000/10000 [==============================] - 1s 85us/step - loss: 0.2301\n",
      "Epoch 8/10\n",
      "10000/10000 [==============================] - 1s 91us/step - loss: 0.2301\n",
      "Epoch 9/10\n",
      "10000/10000 [==============================] - 1s 96us/step - loss: 0.2301\n",
      "Epoch 10/10\n",
      "10000/10000 [==============================] - 1s 96us/step - loss: 0.2301\n",
      "[[0.25015384 0.24785885 0.24944915 0.25253814]\n",
      " [0.25015384 0.24785885 0.24944915 0.25253814]]\n"
     ]
    }
   ],
   "source": [
    "import numpy as np \n",
    "import random \n",
    "x = np.load('../input/osproject/x.npy')\n",
    "y = np.load('../input/osproject/y.npy')\n",
    "Y =  np.zeros((10000,4))\n",
    "data = np.zeros((10000,149))\n",
    "\n",
    "for i in range(760):\n",
    "    for j in range(50):\n",
    "        data[i][j] = x[i][j]\n",
    "    for j in range(50,149,1):\n",
    "        data[i][j] = random.randint(0,100)\n",
    "    Y[i] = y[i]/100\n",
    "        \n",
    "for i in range(760,10000):\n",
    "    for j in range(149,1):\n",
    "        data[i][j] = random.randint(0,100)\n",
    "    for j in range(4):\n",
    "        Y[i][j] = random.randint(1,4)*random.randint(0,100)\n",
    "        \n",
    "for i in range(760,10000):\n",
    "    lol = np.sum(Y[i])\n",
    "    Y[i]/=lol\n",
    "        \n",
    "print(Y.shape)\n",
    "\n",
    "model.fit(data,Y,batch_size = 32,epochs = 10)\n",
    "print(model.predict(data[-3:-1]))"
   ]
  },
  {
   "cell_type": "code",
   "execution_count": 103,
   "metadata": {},
   "outputs": [
    {
     "name": "stdout",
     "output_type": "stream",
     "text": [
      "(10000, 4)\n",
      "Epoch 1/10\n",
      "10000/10000 [==============================] - 1s 97us/step - loss: 0.1892\n",
      "Epoch 2/10\n",
      "10000/10000 [==============================] - 1s 95us/step - loss: 0.1682\n",
      "Epoch 3/10\n",
      "10000/10000 [==============================] - 1s 95us/step - loss: 0.1671\n",
      "Epoch 4/10\n",
      "10000/10000 [==============================] - 1s 96us/step - loss: 0.1670\n",
      "Epoch 5/10\n",
      "10000/10000 [==============================] - 1s 95us/step - loss: 0.1670\n",
      "Epoch 6/10\n",
      "10000/10000 [==============================] - 1s 96us/step - loss: 0.1670\n",
      "Epoch 7/10\n",
      "10000/10000 [==============================] - 1s 95us/step - loss: 0.1670\n",
      "Epoch 8/10\n",
      "10000/10000 [==============================] - 1s 87us/step - loss: 0.1670\n",
      "Epoch 9/10\n",
      "10000/10000 [==============================] - 1s 85us/step - loss: 0.1670\n",
      "Epoch 10/10\n",
      "10000/10000 [==============================] - 1s 85us/step - loss: 0.1670\n",
      "[[0.37863252 0.29170424 0.21020894 0.11945428]\n",
      " [0.37863252 0.29170424 0.21020894 0.11945428]\n",
      " [0.37863252 0.29170424 0.21020894 0.11945428]\n",
      " [0.37863252 0.29170424 0.21020894 0.11945428]\n",
      " [0.37863252 0.29170424 0.21020894 0.11945428]]\n"
     ]
    }
   ],
   "source": [
    "Y =  np.zeros((10000,4))\n",
    "data = np.zeros((10000,149))\n",
    "\n",
    "for i in range(760):\n",
    "    for j in range(50):\n",
    "        data[i][j] = x[i][j]\n",
    "    for j in range(50,149,1):\n",
    "        data[i][j] = random.randint(0,100)\n",
    "    Y[i] = y[i]/100\n",
    "        \n",
    "for i in range(760,10000):\n",
    "    for j in range(149,1):\n",
    "        data[i][j] = random.randint(0,100)\n",
    "    for j in range(4):\n",
    "        Y[i][j] = (4-j)*random.randint(0,100)\n",
    "        \n",
    "for i in range(760,10000):\n",
    "    lol = np.sum(Y[i])\n",
    "    Y[i]/=lol\n",
    "        \n",
    "print(Y.shape)\n",
    "\n",
    "model.fit(data,Y,epochs = 10)\n",
    "print(model.predict(data[0:5]))"
   ]
  },
  {
   "cell_type": "code",
   "execution_count": 104,
   "metadata": {},
   "outputs": [],
   "source": [
    "model.save('weight.hdf5')"
   ]
  }
 ],
 "metadata": {
  "kernelspec": {
   "display_name": "Python 3",
   "language": "python",
   "name": "python3"
  },
  "language_info": {
   "codemirror_mode": {
    "name": "ipython",
    "version": 3
   },
   "file_extension": ".py",
   "mimetype": "text/x-python",
   "name": "python",
   "nbconvert_exporter": "python",
   "pygments_lexer": "ipython3",
   "version": "3.6.5"
  }
 },
 "nbformat": 4,
 "nbformat_minor": 1
}
